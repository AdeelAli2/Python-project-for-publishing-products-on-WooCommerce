{
 "cells": [
  {
   "cell_type": "code",
   "execution_count": null,
   "id": "1c3a535c",
   "metadata": {},
   "outputs": [],
   "source": [
    "import requests\n",
    "\n",
    "# Replace with your own values\n",
    "consumer_key = 'ck_XXXXXXXXXXXXXXXXXXXXXXXXXXXXXXXXXXXXXXXX'\n",
    "consumer_secret = 'cs_XXXXXXXXXXXXXXXXXXXXXXXXXXXXXXXXXXXXXXXX'\n",
    "\n",
    "# Set up API authentication\n",
    "auth = requests.auth.HTTPBasicAuth(consumer_key, consumer_secret)\n",
    "\n",
    "# Set up API endpoint\n",
    "endpoint = 'https://example.com/wp-json/wc/v3/products'\n",
    "\n",
    "# Set up request headers\n",
    "headers = {\n",
    "    'Content-Type': 'application/json',\n",
    "    'Accept': 'application/json'\n",
    "}\n",
    "\n",
    "# Retrieve product data\n",
    "response = requests.get(endpoint, auth=auth, headers=headers)\n",
    "\n",
    "# Create a new product\n",
    "product = {\n",
    "    'name': 'New Product',\n",
    "    'regular_price': '10.00',\n",
    "    'description': 'This is a new product',\n",
    "    'images': [\n",
    "        {\n",
    "            'src': 'https://example.com/image.jpg'\n",
    "        }\n",
    "    ]\n",
    "}\n",
    "\n",
    "response = requests.post(endpoint, auth=auth, headers=headers, json=product)\n",
    "\n",
    "# Update an existing product\n",
    "product_id = '1234'\n",
    "product_updates = {\n",
    "    'name': 'Updated Product',\n",
    "    'regular_price': '15.00'\n",
    "}\n",
    "\n",
    "response = requests.put(endpoint + '/' + product_id, auth=auth, headers=headers, json=product_updates)\n",
    "\n",
    "# Delete a product\n",
    "product_id = '1234'\n",
    "\n",
    "response = requests.delete(endpoint + '/' + product_id, auth=auth, headers=headers)\n"
   ]
  }
 ],
 "metadata": {
  "kernelspec": {
   "display_name": "Python 3 (ipykernel)",
   "language": "python",
   "name": "python3"
  },
  "language_info": {
   "codemirror_mode": {
    "name": "ipython",
    "version": 3
   },
   "file_extension": ".py",
   "mimetype": "text/x-python",
   "name": "python",
   "nbconvert_exporter": "python",
   "pygments_lexer": "ipython3",
   "version": "3.11.2"
  }
 },
 "nbformat": 4,
 "nbformat_minor": 5
}
